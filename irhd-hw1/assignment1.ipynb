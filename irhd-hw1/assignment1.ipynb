{
 "cells": [
  {
   "cell_type": "code",
   "execution_count": 1,
   "metadata": {
    "collapsed": true
   },
   "outputs": [],
   "source": [
    "import numpy as np\n",
    "import matplotlib.pyplot as plt\n",
    "# import pandas as pd\n",
    "import math\n",
    "%matplotlib inline\n",
    "import time\n",
    "# from tempfile import TemporaryFile\n",
    "# outfile = TemporaryFile()"
   ]
  },
  {
   "cell_type": "code",
   "execution_count": 2,
   "metadata": {
    "collapsed": true
   },
   "outputs": [],
   "source": [
    "# def dotproduct(v1, v2):\n",
    "#     return sum((a*b) for a, b in zip(v1, v2))"
   ]
  },
  {
   "cell_type": "code",
   "execution_count": 3,
   "metadata": {
    "collapsed": true
   },
   "outputs": [],
   "source": [
    "def angle(v1, v2):\n",
    "    \"\"\"\n",
    "    calculate angel between v1 and v2\n",
    "    \"\"\"\n",
    "    def length(v):\n",
    "        return math.sqrt(np.dot(v, v))\n",
    "    \n",
    "    return math.acos(np.dot(v1, v2) / (length(v1) * length(v2)))"
   ]
  },
  {
   "cell_type": "code",
   "execution_count": 4,
   "metadata": {
    "collapsed": true
   },
   "outputs": [],
   "source": [
    "def min_angle(array, idx):\n",
    "    \"\"\"\n",
    "    array in 2-D form, which include all vectors\n",
    "    idx is index of one vector in array\n",
    "    \"\"\"\n",
    "    array_without_vec = np.vstack([array[0:idx,:], array[idx+1:,:]])\n",
    "    angles = [angle(array[idx], array_without_vec[i]) for i in range(len(array_without_vec))]\n",
    "    \n",
    "    res = min(angles)\n",
    "    return res"
   ]
  },
  {
   "cell_type": "code",
   "execution_count": 5,
   "metadata": {
    "collapsed": true
   },
   "outputs": [],
   "source": [
    "def min_angles_mean(array):\n",
    "    \"\"\"\n",
    "    array in 2-D form\n",
    "    return a 1-D array with min_angle\n",
    "    \"\"\"\n",
    "    min_angles = [min_angle(array, idx) for idx in range(array.shape[0])]\n",
    "#     print(len(min_angles))\n",
    "    res = np.mean(min_angles)\n",
    "    return res"
   ]
  },
  {
   "cell_type": "code",
   "execution_count": 6,
   "metadata": {
    "collapsed": true
   },
   "outputs": [],
   "source": [
    "min_angles_means = []\n",
    "n_sample = 100\n",
    "dim = 1000\n",
    "st = time.time()"
   ]
  },
  {
   "cell_type": "code",
   "execution_count": 7,
   "metadata": {
    "collapsed": true
   },
   "outputs": [],
   "source": [
    "for i in range(dim-1):\n",
    "    X = np.random.rand(n_sample, i+1)*2-1\n",
    "    min_mean = min_angles_mean(X)\n",
    "    min_angles_means.append(min_mean)"
   ]
  },
  {
   "cell_type": "code",
   "execution_count": 8,
   "metadata": {
    "collapsed": true
   },
   "outputs": [],
   "source": [
    "# # instead of plot, save *.txt\n",
    "# np.savetxt('outfile.txt', min_angles_means)\n",
    "# tmp = np.loadtxt('outfile.txt')"
   ]
  },
  {
   "cell_type": "code",
   "execution_count": 9,
   "metadata": {},
   "outputs": [
    {
     "name": "stdout",
     "output_type": "stream",
     "text": [
      "the time cost is: 35.362021923065186\n"
     ]
    }
   ],
   "source": [
    "et = time.time()\n",
    "print('the time cost is:', et-st)\n",
    "y = range(len(min_angles_means))"
   ]
  },
  {
   "cell_type": "code",
   "execution_count": 10,
   "metadata": {},
   "outputs": [
    {
     "data": {
      "text/plain": [
       "[<matplotlib.lines.Line2D at 0x10a8310b8>]"
      ]
     },
     "execution_count": 10,
     "metadata": {},
     "output_type": "execute_result"
    },
    {
     "data": {
      "image/png": "[encoded data removed]",
      "text/plain": [
       "<matplotlib.figure.Figure at 0x10e97fa58>"
      ]
     },
     "metadata": {},
     "output_type": "display_data"
    }
   ],
   "source": [
    "plt.plot(y, min_angles_means)"
   ]
  },
  {
   "cell_type": "code",
   "execution_count": null,
   "metadata": {
    "collapsed": true
   },
   "outputs": [],
   "source": []
  }
 ],
 "metadata": {
  "kernelspec": {
   "display_name": "Python 3",
   "language": "python",
   "name": "python3"
  },
  "language_info": {
   "codemirror_mode": {
    "name": "ipython",
    "version": 3
   },
   "file_extension": ".py",
   "mimetype": "text/x-python",
   "name": "python",
   "nbconvert_exporter": "python",
   "pygments_lexer": "ipython3",
   "version": "3.6.3"
  }
 },
 "nbformat": 4,
 "nbformat_minor": 2
}
