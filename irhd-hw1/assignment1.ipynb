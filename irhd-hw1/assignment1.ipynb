{
 "cells": [
  {
   "cell_type": "markdown",
   "metadata": {},
   "source": [
    "**team number:** 8\n",
    "\n",
    "**team member:** Shangyin Gao, Hanbo Hu, Jia Hua, Siyuan Liu, Xianrui Niu\n",
    "\n",
    "## Answer\n",
    "\n",
    "1. 1.5 alomost equal to 90 degrees. If dimension p is very large, the angle between two randomly sampled vectors is 90 degrees.\n",
    "\n",
    "2. the result didn't change with the increase of sample size, proved below"
   ]
  },
  {
   "cell_type": "code",
   "execution_count": 20,
   "metadata": {
    "collapsed": true
   },
   "outputs": [],
   "source": [
    "import numpy as np\n",
    "import matplotlib.pyplot as plt\n",
    "import math\n",
    "%matplotlib inline\n",
    "import time"
   ]
  },
  {
   "cell_type": "code",
   "execution_count": 21,
   "metadata": {
    "collapsed": true
   },
   "outputs": [],
   "source": [
    "def angle(v1, v2):\n",
    "    \"\"\"\n",
    "    calculate angel between v1 and v2\n",
    "    \"\"\"\n",
    "    def length(v):\n",
    "        return math.sqrt(np.dot(v, v))\n",
    "    \n",
    "    return math.acos(np.dot(v1, v2) / (length(v1) * length(v2)))"
   ]
  },
  {
   "cell_type": "code",
   "execution_count": 22,
   "metadata": {
    "collapsed": true
   },
   "outputs": [],
   "source": [
    "def min_angle(array, idx):\n",
    "    \"\"\"\n",
    "    calculate the min angle between the idx-th vector and others\n",
    "    array in 2-D form, which include all vectors\n",
    "    idx is index of one vector in array\n",
    "    \"\"\"\n",
    "    array_without_vec = np.vstack([array[0:idx,:], array[idx+1:,:]])\n",
    "    angles = [angle(array[idx], array_without_vec[i]) for i in range(len(array_without_vec))]\n",
    "    \n",
    "    res = min(angles)\n",
    "    return res"
   ]
  },
  {
   "cell_type": "code",
   "execution_count": 23,
   "metadata": {
    "collapsed": true
   },
   "outputs": [],
   "source": [
    "def min_angles_mean(array):\n",
    "    \"\"\"\n",
    "    array in 2-D form\n",
    "    return a 1-D array with min_angle\n",
    "    \"\"\"\n",
    "    min_angles = [min_angle(array, idx) for idx in range(array.shape[0])]\n",
    "    res = np.mean(min_angles)\n",
    "    return res"
   ]
  },
  {
   "cell_type": "code",
   "execution_count": 45,
   "metadata": {},
   "outputs": [],
   "source": [
    "def run(array, n_sample, dim):\n",
    "    \"\"\"\n",
    "    array is mean of min angles between vector w.r.t. dimensions\n",
    "    n_sample is the number of samples\n",
    "    dim is the max dimension\n",
    "    \"\"\"\n",
    "    # start time\n",
    "    st = time.time()\n",
    "    for i in range(dim):\n",
    "        # sample 100 vectors from dimension 1 to 1000\n",
    "        X = np.random.rand(n_sample, i+1)*2-1\n",
    "        # calcuate min_mean for each dimension\n",
    "        min_mean = min_angles_mean(X)\n",
    "        # build a 1-D array with i-th number min_angles_mean for i-th dimension\n",
    "        array.append(min_mean)\n",
    "    # end time\n",
    "    et = time.time()\n",
    "    print('the time cost is:', et-st)"
   ]
  },
  {
   "cell_type": "code",
   "execution_count": 46,
   "metadata": {},
   "outputs": [
    {
     "name": "stdout",
     "output_type": "stream",
     "text": [
      "the time cost is: 36.92250990867615\n"
     ]
    }
   ],
   "source": [
    "min_angles_means = []\n",
    "# run, number of sample is 100, dimension is 1000\n",
    "run(min_angles_means, 100, 1000)"
   ]
  },
  {
   "cell_type": "code",
   "execution_count": 47,
   "metadata": {},
   "outputs": [
    {
     "data": {
      "text/plain": [
       "[<matplotlib.lines.Line2D at 0x110df6a90>]"
      ]
     },
     "execution_count": 47,
     "metadata": {},
     "output_type": "execute_result"
    },
    {
     "data": {
      "image/png": "[encoded data removed]",
      "text/plain": [
       "<matplotlib.figure.Figure at 0x11881e4a8>"
      ]
     },
     "metadata": {},
     "output_type": "display_data"
    }
   ],
   "source": [
    "# y is a index for plot\n",
    "y = range(len(min_angles_means))\n",
    "plt.plot(y, min_angles_means)"
   ]
  },
  {
   "cell_type": "markdown",
   "metadata": {
    "collapsed": true
   },
   "source": [
    "## the relationship between n_samples and resule"
   ]
  },
  {
   "cell_type": "code",
   "execution_count": 19,
   "metadata": {
    "collapsed": true
   },
   "outputs": [],
   "source": [
    "# set n_sample to 200 (origion is 100) and run the programm again"
   ]
  },
  {
   "cell_type": "code",
   "execution_count": 51,
   "metadata": {},
   "outputs": [
    {
     "name": "stdout",
     "output_type": "stream",
     "text": [
      "the time cost is: 159.00530409812927\n"
     ]
    }
   ],
   "source": [
    "min_angles_means_200 = []\n",
    "# run, number of sample is 100, dimension is 1000\n",
    "run(min_angles_means_200, 200, 1000)"
   ]
  },
  {
   "cell_type": "code",
   "execution_count": 63,
   "metadata": {},
   "outputs": [
    {
     "data": {
      "image/png": "[encoded data removed]",
      "text/plain": [
       "<matplotlib.figure.Figure at 0x118046cc0>"
      ]
     },
     "metadata": {},
     "output_type": "display_data"
    }
   ],
   "source": [
    "y = range(len(min_angles_means))\n",
    "plt.plot(y, min_angles_means)\n",
    "plt.plot(y, min_angles_means_200)\n",
    "plt.show()"
   ]
  }
 ],
 "metadata": {
  "kernelspec": {
   "display_name": "Python 3",
   "language": "python",
   "name": "python3"
  },
  "language_info": {
   "codemirror_mode": {
    "name": "ipython",
    "version": 3
   },
   "file_extension": ".py",
   "mimetype": "text/x-python",
   "name": "python",
   "nbconvert_exporter": "python",
   "pygments_lexer": "ipython3",
   "version": "3.6.3"
  }
 },
 "nbformat": 4,
 "nbformat_minor": 2
}
